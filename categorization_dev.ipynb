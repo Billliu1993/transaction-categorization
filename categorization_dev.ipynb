{
 "cells": [
  {
   "cell_type": "code",
   "execution_count": 1,
   "metadata": {},
   "outputs": [],
   "source": [
    "%load_ext autoreload\n",
    "%autoreload 2"
   ]
  },
  {
   "cell_type": "markdown",
   "metadata": {},
   "source": [
    "### load data"
   ]
  },
  {
   "cell_type": "code",
   "execution_count": 4,
   "metadata": {},
   "outputs": [],
   "source": [
    "import pandas as pd\n",
    "import numpy as np\n",
    "import chardet\n"
   ]
  },
  {
   "cell_type": "code",
   "execution_count": 5,
   "metadata": {},
   "outputs": [
    {
     "name": "stdout",
     "output_type": "stream",
     "text": [
      "{'encoding': 'Windows-1252', 'confidence': 0.73, 'language': ''}\n"
     ]
    }
   ],
   "source": [
    "with open(\"./data/small_data.csv\", 'rb') as file:\n",
    "    print(chardet.detect(file.read()))"
   ]
  },
  {
   "cell_type": "code",
   "execution_count": 6,
   "metadata": {},
   "outputs": [],
   "source": [
    "raw_txsn = pd.read_csv(\"./data/small_data.csv\", encoding=\"cp1252\")"
   ]
  },
  {
   "cell_type": "code",
   "execution_count": 8,
   "metadata": {},
   "outputs": [
    {
     "data": {
      "text/plain": [
       "Category\n",
       "Electronics                  768\n",
       "Home                         577\n",
       "Clothes                      466\n",
       "Entertainment                407\n",
       "Personal_Care                401\n",
       "Vacation                     199\n",
       "Auto                         178\n",
       "Food                         137\n",
       "Utilities                    133\n",
       "Kids                         114\n",
       "Subscriptions_Memberships     85\n",
       "Medical                        2\n",
       "Personal Care                  1\n",
       "Debt                           1\n",
       "Savings                        1\n",
       "Name: count, dtype: int64"
      ]
     },
     "execution_count": 8,
     "metadata": {},
     "output_type": "execute_result"
    }
   ],
   "source": [
    "# imbalanced data\n",
    "raw_txsn.Category.value_counts()"
   ]
  },
  {
   "cell_type": "code",
   "execution_count": 11,
   "metadata": {},
   "outputs": [],
   "source": [
    "combined_cats = ['Subscriptions_Memberships', 'Medical', 'Personal Care', 'Debt', 'Savings']\n",
    "\n",
    "txsn = raw_txsn.copy()\n",
    "txsn['label'] = txsn['Category']\n",
    "txsn.loc[txsn.label.isin(combined_cats), 'label'] = 'Others'"
   ]
  },
  {
   "cell_type": "code",
   "execution_count": 12,
   "metadata": {},
   "outputs": [
    {
     "data": {
      "text/plain": [
       "label\n",
       "Electronics      0.221326\n",
       "Home             0.166282\n",
       "Clothes          0.134294\n",
       "Entertainment    0.117291\n",
       "Personal_Care    0.115562\n",
       "Vacation         0.057349\n",
       "Auto             0.051297\n",
       "Food             0.039481\n",
       "Utilities        0.038329\n",
       "Kids             0.032853\n",
       "Others           0.025937\n",
       "Name: proportion, dtype: float64"
      ]
     },
     "execution_count": 12,
     "metadata": {},
     "output_type": "execute_result"
    }
   ],
   "source": [
    "txsn.label.value_counts(normalize=True)"
   ]
  },
  {
   "cell_type": "code",
   "execution_count": 119,
   "metadata": {},
   "outputs": [
    {
     "data": {
      "text/plain": [
       "11"
      ]
     },
     "execution_count": 119,
     "metadata": {},
     "output_type": "execute_result"
    }
   ],
   "source": [
    "num_cat = txsn.label.nunique()\n",
    "num_cat"
   ]
  },
  {
   "cell_type": "markdown",
   "metadata": {},
   "source": [
    "### process data"
   ]
  },
  {
   "cell_type": "code",
   "execution_count": 47,
   "metadata": {},
   "outputs": [],
   "source": [
    "from sklearn.preprocessing import LabelEncoder, OneHotEncoder\n",
    "import re\n",
    "from unidecode import unidecode\n",
    "from nltk.corpus import stopwords\n",
    "stop_words = set(stopwords.words('english'))"
   ]
  },
  {
   "cell_type": "code",
   "execution_count": 23,
   "metadata": {},
   "outputs": [],
   "source": [
    "unique_cats = list(txsn['label'].unique())\n",
    "\n",
    "label_encoder = LabelEncoder()\n",
    "integer_encoded_cat = label_encoder.fit_transform(unique_cats)\n",
    "\n",
    "onehot_encoder = OneHotEncoder(sparse_output=False)\n",
    "onehot_encoded_cat = onehot_encoder.fit_transform(integer_encoded_cat.reshape(-1, 1))\n",
    "\n",
    "category_mapping = dict(zip(unique_cats, onehot_encoded_cat))"
   ]
  },
  {
   "cell_type": "code",
   "execution_count": 52,
   "metadata": {},
   "outputs": [],
   "source": [
    "# process transaction name\n",
    "txsn['name'] = txsn['Description']\n",
    "# lowercase\n",
    "txsn['name'] = txsn['name'].apply(lambda x: x.strip().lower())\n",
    "# convert non English letter to the closest English letter\n",
    "txsn['name'] = txsn['name'].apply(lambda x: unidecode(x))\n",
    "# remove non English letter\n",
    "txsn['name'] = txsn['name'].apply(lambda x: re.sub(r'[^a-zA-Z ]', \"\", x))\n",
    "# remove extra space\n",
    "txsn['name'] = txsn['name'].apply(lambda x: re.sub(r'\\s+', \" \", x))\n",
    "# remove single letter\n",
    "txsn['name'] = txsn['name'].apply(lambda x: re.sub(r'\\b[a-zA-Z]\\b', \"\", x))\n",
    "# remove word with length >= 15\n",
    "txsn['name'] = txsn['name'].apply(lambda x: re.sub(r'\\b[a-zA-Z]{15,}\\b', \"\", x))\n",
    "# remove stopwords\n",
    "txsn['name'] = txsn['name'].apply(lambda x: ' '.join([word for word in x.split() if word not in stop_words]))\n",
    "# remove duplicate words while preserving the order of occurance\n",
    "txsn['name'] = txsn['name'].apply(lambda x: ' '.join(list(dict.fromkeys(x.split()))))"
   ]
  },
  {
   "cell_type": "code",
   "execution_count": 55,
   "metadata": {},
   "outputs": [],
   "source": [
    "# only keep the necessary columns\n",
    "txsn = txsn.assign(tokenized='', tok_cat='')\n",
    "txsn = txsn[['name', 'label', 'tokenized', 'tok_cat']]"
   ]
  },
  {
   "cell_type": "code",
   "execution_count": 59,
   "metadata": {},
   "outputs": [
    {
     "data": {
      "text/plain": [
       "name         0\n",
       "label        0\n",
       "tokenized    0\n",
       "tok_cat      0\n",
       "dtype: int64"
      ]
     },
     "execution_count": 59,
     "metadata": {},
     "output_type": "execute_result"
    }
   ],
   "source": [
    "# ensure that there is no missing values\n",
    "txsn.isna().sum()"
   ]
  },
  {
   "cell_type": "markdown",
   "metadata": {},
   "source": [
    "### word-embedding"
   ]
  },
  {
   "cell_type": "code",
   "execution_count": 88,
   "metadata": {},
   "outputs": [],
   "source": [
    "import tensorflow as tf\n",
    "from transformers import BertTokenizer\n",
    "from sklearn.model_selection import train_test_split"
   ]
  },
  {
   "cell_type": "code",
   "execution_count": 65,
   "metadata": {},
   "outputs": [],
   "source": [
    "# load the BERT tokenizer\n",
    "# https://huggingface.co/google-bert/bert-base-uncased\n",
    "tokenizer = BertTokenizer.from_pretrained('bert-base-uncased')"
   ]
  },
  {
   "cell_type": "code",
   "execution_count": 66,
   "metadata": {},
   "outputs": [],
   "source": [
    "# tokenize transaction name\n",
    "tokenized_desc = [tokenizer.tokenize(text) for text in txsn['name']]\n",
    "txsn['tokenized'] = tokenized_desc"
   ]
  },
  {
   "cell_type": "code",
   "execution_count": 68,
   "metadata": {},
   "outputs": [],
   "source": [
    "# Convert the tokenized sequences to IDs\n",
    "tokenized_desc_ids = [tokenizer.convert_tokens_to_ids(tokens) for tokens in tokenized_desc]\n",
    "txsn['tokenized_ids'] = tokenized_desc_ids"
   ]
  },
  {
   "cell_type": "code",
   "execution_count": 71,
   "metadata": {},
   "outputs": [
    {
     "name": "stdout",
     "output_type": "stream",
     "text": [
      "Max length in the data: 30\n"
     ]
    }
   ],
   "source": [
    "# Find the maximum length of the tokenized sequences\n",
    "actual_max = max([len(tokens) for tokens in tokenized_desc_ids])\n",
    "print(\"Max length in the data:\", actual_max)"
   ]
  },
  {
   "cell_type": "code",
   "execution_count": 83,
   "metadata": {},
   "outputs": [],
   "source": [
    "# Pad the sequences to the max_len\n",
    "max_len = 30\n",
    "padded_desc = tf.keras.preprocessing.sequence.pad_sequences(tokenized_desc_ids, maxlen=max_len, \n",
    "                                                            padding='post', truncating='post')\n",
    "txsn['tokenized_padded'] = np.array(padded_desc).tolist()"
   ]
  },
  {
   "cell_type": "code",
   "execution_count": 84,
   "metadata": {},
   "outputs": [],
   "source": [
    "# Map the Category and Sub_Category values to the corresponding one-hot encoded vectors\n",
    "txsn['tok_cat'] = txsn['label'].apply(lambda x: category_mapping.get(x))"
   ]
  },
  {
   "cell_type": "code",
   "execution_count": 85,
   "metadata": {},
   "outputs": [],
   "source": [
    "X, y = txsn[\"tokenized_padded\"].tolist(), txsn[\"tok_cat\"].tolist()"
   ]
  },
  {
   "cell_type": "code",
   "execution_count": 103,
   "metadata": {},
   "outputs": [],
   "source": [
    "X_train, X_test, y_train, y_test = train_test_split(X, y, test_size=0.15, random_state=42)"
   ]
  },
  {
   "cell_type": "code",
   "execution_count": 104,
   "metadata": {},
   "outputs": [
    {
     "name": "stdout",
     "output_type": "stream",
     "text": [
      "label shape before (2949, 11)\n",
      "label shape after (2949,)\n"
     ]
    }
   ],
   "source": [
    "print('label shape before %s' % str(np.array(y_train).shape))\n",
    "y_train = np.argmax( np.array(y_train), axis=1 )\n",
    "print('label shape after %s' % str(y_train.shape))"
   ]
  },
  {
   "cell_type": "code",
   "execution_count": 105,
   "metadata": {},
   "outputs": [
    {
     "name": "stdout",
     "output_type": "stream",
     "text": [
      "label shape before (521, 11)\n",
      "label shape after (521,)\n"
     ]
    }
   ],
   "source": [
    "print('label shape before %s' % str(np.array(y_test).shape))\n",
    "y_test = np.argmax( np.array(y_test), axis=1 )\n",
    "print('label shape after %s' % str(y_test.shape))"
   ]
  },
  {
   "cell_type": "markdown",
   "metadata": {},
   "source": [
    "### model training"
   ]
  },
  {
   "cell_type": "code",
   "execution_count": 124,
   "metadata": {},
   "outputs": [],
   "source": [
    "import time\n",
    "\n",
    "import torch\n",
    "import torch.nn as nn\n",
    "from torch.utils.data import TensorDataset, DataLoader\n",
    "import torch.optim as optim\n",
    "from torch.optim.lr_scheduler import ReduceLROnPlateau\n",
    "\n",
    "from transformers import BertModel, BertForSequenceClassification\n",
    "\n",
    "import matplotlib\n",
    "import matplotlib.pyplot as plt\n",
    "%matplotlib inline"
   ]
  },
  {
   "cell_type": "code",
   "execution_count": 131,
   "metadata": {},
   "outputs": [],
   "source": [
    "X_trainT = torch.tensor(X_train)\n",
    "X_testT = torch.tensor(X_test)\n",
    "\n",
    "y_trainT = torch.tensor(y_train).long()\n",
    "y_testT = torch.tensor(y_test).long()"
   ]
  },
  {
   "cell_type": "code",
   "execution_count": 174,
   "metadata": {},
   "outputs": [],
   "source": [
    "train_data = TensorDataset(X_trainT,y_trainT)\n",
    "test_data  = TensorDataset(X_testT,y_testT)\n",
    "\n",
    "batch_size = 16\n",
    "train_loader = DataLoader(\n",
    "    train_data, batch_size=batch_size, shuffle=True, drop_last=True)\n",
    "test_loader  = DataLoader(\n",
    "    test_data, batch_size=batch_size, shuffle=False)"
   ]
  },
  {
   "cell_type": "code",
   "execution_count": 120,
   "metadata": {},
   "outputs": [],
   "source": [
    "class CategorizerModel(nn.Module):\n",
    "\n",
    "    def __init__(self, num_cat):\n",
    "        super().__init__()\n",
    "        self.bert_model = BertForSequenceClassification.from_pretrained(\n",
    "            'bert-base-uncased', num_labels= num_cat)      \n",
    "        self.num_cat = num_cat\n",
    "\n",
    "    def forward(self, x):\n",
    "        outputs = self.bert_model(x)\n",
    "        logits = outputs.logits\n",
    "        return logits"
   ]
  },
  {
   "cell_type": "code",
   "execution_count": 121,
   "metadata": {},
   "outputs": [
    {
     "data": {
      "text/plain": [
       "11"
      ]
     },
     "execution_count": 121,
     "metadata": {},
     "output_type": "execute_result"
    }
   ],
   "source": [
    "num_cat"
   ]
  },
  {
   "cell_type": "code",
   "execution_count": 195,
   "metadata": {},
   "outputs": [
    {
     "name": "stderr",
     "output_type": "stream",
     "text": [
      "Some weights of BertForSequenceClassification were not initialized from the model checkpoint at bert-base-uncased and are newly initialized: ['classifier.bias', 'classifier.weight']\n",
      "You should probably TRAIN this model on a down-stream task to be able to use it for predictions and inference.\n"
     ]
    }
   ],
   "source": [
    "cat_model = CategorizerModel(num_cat=num_cat)"
   ]
  },
  {
   "cell_type": "code",
   "execution_count": 133,
   "metadata": {},
   "outputs": [],
   "source": [
    "# test if the model is working or not\n",
    "# X_qa = next(iter(test_loader))[0]\n",
    "# yhat_qa = cat_model(X_qa)"
   ]
  },
  {
   "cell_type": "code",
   "execution_count": 196,
   "metadata": {},
   "outputs": [
    {
     "name": "stdout",
     "output_type": "stream",
     "text": [
      "Using device: cuda\n"
     ]
    }
   ],
   "source": [
    "device = torch.device(\"cuda\" if torch.cuda.is_available() else \"cpu\")\n",
    "print(\"Using device:\", device)"
   ]
  },
  {
   "cell_type": "code",
   "execution_count": 197,
   "metadata": {},
   "outputs": [],
   "source": [
    "# using the parameters recommended in the repo\n",
    "learning_rate = 1e-5\n",
    "epochs = 10\n",
    "\n",
    "# optimizer\n",
    "optimizer = optim.AdamW(\n",
    "    cat_model.parameters(), lr=learning_rate, weight_decay=0.01)\n",
    "    \n",
    "# # scheduler\n",
    "scheduler = ReduceLROnPlateau(\n",
    "    optimizer, mode='min', factor=0.5, patience=2, verbose=True)\n",
    "\n",
    "# loss function\n",
    "lossfun = nn.CrossEntropyLoss(reduction='sum')"
   ]
  },
  {
   "cell_type": "code",
   "execution_count": 198,
   "metadata": {},
   "outputs": [],
   "source": [
    "history = {\n",
    "    'train_loss': [], \n",
    "    'train_acc': [], \n",
    "    'val_loss': [], \n",
    "    'val_acc': []}\n",
    "cat_model = cat_model.to(device)\n",
    "best_val_loss = float('inf')\n",
    "no_improvement_epochs = 0\n",
    "batch_print_interval = 10\n",
    "early_stop = 5"
   ]
  },
  {
   "cell_type": "code",
   "execution_count": 199,
   "metadata": {},
   "outputs": [
    {
     "name": "stdout",
     "output_type": "stream",
     "text": [
      "Epoch 0/9 - Batch 10/184 - Training loss: 37.8991, Training Acc: 0.1625, Validation loss: 35.4343, Validation Acc: 0.1881\n",
      "Elapsed time: 1.23 sec\n"
     ]
    },
    {
     "name": "stdout",
     "output_type": "stream",
     "text": [
      "Epoch 0/9 - Batch 20/184 - Training loss: 36.5057, Training Acc: 0.2062, Validation loss: 34.4768, Validation Acc: 0.2265\n",
      "Elapsed time: 2.31 sec\n",
      "Epoch 0/9 - Batch 30/184 - Training loss: 35.7586, Training Acc: 0.2333, Validation loss: 34.3123, Validation Acc: 0.2169\n",
      "Elapsed time: 3.50 sec\n",
      "Epoch 0/9 - Batch 40/184 - Training loss: 35.4182, Training Acc: 0.2453, Validation loss: 33.5769, Validation Acc: 0.2438\n",
      "Elapsed time: 4.62 sec\n",
      "Epoch 0/9 - Batch 50/184 - Training loss: 35.2682, Training Acc: 0.2500, Validation loss: 33.0896, Validation Acc: 0.3109\n",
      "Elapsed time: 5.75 sec\n",
      "Epoch 0/9 - Batch 60/184 - Training loss: 34.9432, Training Acc: 0.2573, Validation loss: 31.9912, Validation Acc: 0.3800\n",
      "Elapsed time: 6.89 sec\n",
      "Epoch 0/9 - Batch 70/184 - Training loss: 34.7619, Training Acc: 0.2679, Validation loss: 32.0774, Validation Acc: 0.3512\n",
      "Elapsed time: 8.02 sec\n",
      "Epoch 0/9 - Batch 80/184 - Training loss: 34.3539, Training Acc: 0.2734, Validation loss: 31.2170, Validation Acc: 0.3916\n",
      "Elapsed time: 9.14 sec\n",
      "Epoch 0/9 - Batch 90/184 - Training loss: 33.9820, Training Acc: 0.2882, Validation loss: 30.5463, Validation Acc: 0.3666\n",
      "Elapsed time: 10.23 sec\n",
      "Epoch 0/9 - Batch 100/184 - Training loss: 33.5459, Training Acc: 0.3025, Validation loss: 29.6165, Validation Acc: 0.4357\n",
      "Elapsed time: 11.39 sec\n",
      "Epoch 0/9 - Batch 110/184 - Training loss: 33.1603, Training Acc: 0.3136, Validation loss: 29.6346, Validation Acc: 0.4242\n",
      "Elapsed time: 12.44 sec\n",
      "Epoch 0/9 - Batch 120/184 - Training loss: 32.7952, Training Acc: 0.3302, Validation loss: 28.6251, Validation Acc: 0.4242\n",
      "Elapsed time: 13.59 sec\n",
      "Epoch 0/9 - Batch 130/184 - Training loss: 32.6136, Training Acc: 0.3327, Validation loss: 28.0317, Validation Acc: 0.4223\n",
      "Elapsed time: 14.69 sec\n",
      "Epoch 0/9 - Batch 140/184 - Training loss: 32.2683, Training Acc: 0.3411, Validation loss: 27.3449, Validation Acc: 0.4645\n",
      "Elapsed time: 15.70 sec\n",
      "Epoch 0/9 - Batch 150/184 - Training loss: 31.9703, Training Acc: 0.3504, Validation loss: 26.8341, Validation Acc: 0.5010\n",
      "Elapsed time: 16.77 sec\n",
      "Epoch 0/9 - Batch 160/184 - Training loss: 31.6890, Training Acc: 0.3578, Validation loss: 26.2953, Validation Acc: 0.5048\n",
      "Elapsed time: 17.78 sec\n",
      "Epoch 0/9 - Batch 170/184 - Training loss: 31.3963, Training Acc: 0.3654, Validation loss: 26.7015, Validation Acc: 0.5202\n",
      "Elapsed time: 18.91 sec\n",
      "Epoch 0/9 - Batch 180/184 - Training loss: 31.0560, Training Acc: 0.3726, Validation loss: 25.0977, Validation Acc: 0.5106\n",
      "Elapsed time: 19.95 sec\n",
      "Epoch 1/9 - Batch 10/184 - Training loss: 26.2237, Training Acc: 0.4813, Validation loss: 25.4079, Validation Acc: 0.4837\n",
      "Elapsed time: 21.23 sec\n",
      "Epoch 1/9 - Batch 20/184 - Training loss: 26.1584, Training Acc: 0.4656, Validation loss: 24.4096, Validation Acc: 0.5374\n",
      "Elapsed time: 22.42 sec\n",
      "Epoch 1/9 - Batch 30/184 - Training loss: 25.5486, Training Acc: 0.4792, Validation loss: 23.0545, Validation Acc: 0.5681\n",
      "Elapsed time: 23.55 sec\n",
      "Epoch 1/9 - Batch 40/184 - Training loss: 24.9692, Training Acc: 0.4938, Validation loss: 22.6244, Validation Acc: 0.5662\n",
      "Elapsed time: 24.70 sec\n",
      "Epoch 1/9 - Batch 50/184 - Training loss: 24.6100, Training Acc: 0.5100, Validation loss: 22.1443, Validation Acc: 0.5643\n",
      "Elapsed time: 25.84 sec\n",
      "Epoch 1/9 - Batch 60/184 - Training loss: 23.7785, Training Acc: 0.5250, Validation loss: 21.0478, Validation Acc: 0.5912\n",
      "Elapsed time: 26.94 sec\n",
      "Epoch 1/9 - Batch 70/184 - Training loss: 23.3766, Training Acc: 0.5375, Validation loss: 20.7333, Validation Acc: 0.6238\n",
      "Elapsed time: 28.06 sec\n",
      "Epoch 1/9 - Batch 80/184 - Training loss: 22.9817, Training Acc: 0.5477, Validation loss: 20.7021, Validation Acc: 0.6027\n",
      "Elapsed time: 29.20 sec\n",
      "Epoch 1/9 - Batch 90/184 - Training loss: 23.0196, Training Acc: 0.5451, Validation loss: 20.0617, Validation Acc: 0.6084\n",
      "Elapsed time: 30.33 sec\n",
      "Epoch 1/9 - Batch 100/184 - Training loss: 22.7526, Training Acc: 0.5513, Validation loss: 19.4996, Validation Acc: 0.6296\n",
      "Elapsed time: 31.34 sec\n",
      "Epoch 1/9 - Batch 110/184 - Training loss: 22.5559, Training Acc: 0.5528, Validation loss: 19.1023, Validation Acc: 0.6564\n",
      "Elapsed time: 32.48 sec\n",
      "Epoch 1/9 - Batch 120/184 - Training loss: 22.1935, Training Acc: 0.5625, Validation loss: 19.2148, Validation Acc: 0.6526\n",
      "Elapsed time: 33.62 sec\n",
      "Epoch 1/9 - Batch 130/184 - Training loss: 22.0309, Training Acc: 0.5659, Validation loss: 18.6748, Validation Acc: 0.6737\n",
      "Elapsed time: 34.81 sec\n",
      "Epoch 1/9 - Batch 140/184 - Training loss: 21.6170, Training Acc: 0.5737, Validation loss: 17.6554, Validation Acc: 0.6948\n",
      "Elapsed time: 35.94 sec\n",
      "Epoch 1/9 - Batch 150/184 - Training loss: 21.3788, Training Acc: 0.5792, Validation loss: 17.3419, Validation Acc: 0.7025\n",
      "Elapsed time: 37.09 sec\n",
      "Epoch 1/9 - Batch 160/184 - Training loss: 21.1974, Training Acc: 0.5836, Validation loss: 17.2663, Validation Acc: 0.6910\n",
      "Elapsed time: 38.20 sec\n",
      "Epoch 1/9 - Batch 170/184 - Training loss: 20.9077, Training Acc: 0.5938, Validation loss: 17.2344, Validation Acc: 0.6756\n",
      "Elapsed time: 39.28 sec\n",
      "Epoch 1/9 - Batch 180/184 - Training loss: 20.7225, Training Acc: 0.5983, Validation loss: 16.8995, Validation Acc: 0.7102\n",
      "Elapsed time: 40.42 sec\n",
      "Epoch 2/9 - Batch 10/184 - Training loss: 16.4496, Training Acc: 0.7000, Validation loss: 16.1720, Validation Acc: 0.7063\n",
      "Elapsed time: 41.66 sec\n",
      "Epoch 2/9 - Batch 20/184 - Training loss: 15.4488, Training Acc: 0.7188, Validation loss: 16.1404, Validation Acc: 0.7121\n",
      "Elapsed time: 42.81 sec\n",
      "Epoch 2/9 - Batch 30/184 - Training loss: 15.3863, Training Acc: 0.7250, Validation loss: 15.3350, Validation Acc: 0.7255\n",
      "Elapsed time: 43.88 sec\n",
      "Epoch 2/9 - Batch 40/184 - Training loss: 15.0673, Training Acc: 0.7312, Validation loss: 15.5852, Validation Acc: 0.7198\n",
      "Elapsed time: 45.02 sec\n",
      "Epoch 2/9 - Batch 50/184 - Training loss: 15.1142, Training Acc: 0.7288, Validation loss: 15.3636, Validation Acc: 0.7466\n",
      "Elapsed time: 46.08 sec\n",
      "Epoch 2/9 - Batch 60/184 - Training loss: 14.8358, Training Acc: 0.7354, Validation loss: 14.8115, Validation Acc: 0.7409\n",
      "Elapsed time: 47.17 sec\n",
      "Epoch 2/9 - Batch 70/184 - Training loss: 14.5485, Training Acc: 0.7446, Validation loss: 15.5047, Validation Acc: 0.7121\n",
      "Elapsed time: 48.30 sec\n",
      "Epoch 2/9 - Batch 80/184 - Training loss: 14.2989, Training Acc: 0.7508, Validation loss: 14.7711, Validation Acc: 0.7428\n",
      "Elapsed time: 49.42 sec\n",
      "Epoch 2/9 - Batch 90/184 - Training loss: 14.1588, Training Acc: 0.7500, Validation loss: 13.7996, Validation Acc: 0.7582\n",
      "Elapsed time: 50.58 sec\n",
      "Epoch 2/9 - Batch 100/184 - Training loss: 14.2025, Training Acc: 0.7519, Validation loss: 13.7487, Validation Acc: 0.7639\n",
      "Elapsed time: 51.67 sec\n",
      "Epoch 2/9 - Batch 110/184 - Training loss: 13.9626, Training Acc: 0.7568, Validation loss: 13.6766, Validation Acc: 0.7601\n",
      "Elapsed time: 52.75 sec\n",
      "Epoch 2/9 - Batch 120/184 - Training loss: 13.9340, Training Acc: 0.7562, Validation loss: 14.2428, Validation Acc: 0.7505\n",
      "Elapsed time: 53.84 sec\n",
      "Epoch 2/9 - Batch 130/184 - Training loss: 13.9695, Training Acc: 0.7553, Validation loss: 13.9152, Validation Acc: 0.7658\n",
      "Elapsed time: 54.84 sec\n",
      "Epoch 2/9 - Batch 140/184 - Training loss: 13.9712, Training Acc: 0.7536, Validation loss: 13.1393, Validation Acc: 0.7601\n",
      "Elapsed time: 55.91 sec\n",
      "Epoch 2/9 - Batch 150/184 - Training loss: 13.9209, Training Acc: 0.7529, Validation loss: 13.2654, Validation Acc: 0.7620\n",
      "Elapsed time: 57.02 sec\n",
      "Epoch 2/9 - Batch 160/184 - Training loss: 13.8584, Training Acc: 0.7512, Validation loss: 12.7445, Validation Acc: 0.7889\n",
      "Elapsed time: 58.09 sec\n",
      "Epoch 2/9 - Batch 170/184 - Training loss: 13.7394, Training Acc: 0.7533, Validation loss: 12.6861, Validation Acc: 0.7658\n",
      "Elapsed time: 59.20 sec\n",
      "Epoch 2/9 - Batch 180/184 - Training loss: 13.6301, Training Acc: 0.7538, Validation loss: 12.0564, Validation Acc: 0.8061\n",
      "Elapsed time: 60.31 sec\n",
      "Epoch 3/9 - Batch 10/184 - Training loss: 10.4594, Training Acc: 0.8063, Validation loss: 11.8461, Validation Acc: 0.8004\n",
      "Elapsed time: 61.64 sec\n",
      "Epoch 3/9 - Batch 20/184 - Training loss: 10.4178, Training Acc: 0.8187, Validation loss: 12.5057, Validation Acc: 0.7812\n",
      "Elapsed time: 62.81 sec\n",
      "Epoch 3/9 - Batch 30/184 - Training loss: 10.1788, Training Acc: 0.8250, Validation loss: 12.0603, Validation Acc: 0.7831\n",
      "Elapsed time: 63.92 sec\n",
      "Epoch 3/9 - Batch 40/184 - Training loss: 10.1113, Training Acc: 0.8266, Validation loss: 11.4542, Validation Acc: 0.7965\n",
      "Elapsed time: 65.06 sec\n",
      "Epoch 3/9 - Batch 50/184 - Training loss: 9.8395, Training Acc: 0.8313, Validation loss: 11.2807, Validation Acc: 0.8042\n",
      "Elapsed time: 66.19 sec\n",
      "Epoch 3/9 - Batch 60/184 - Training loss: 9.6620, Training Acc: 0.8385, Validation loss: 11.0758, Validation Acc: 0.8196\n",
      "Elapsed time: 67.31 sec\n",
      "Epoch 3/9 - Batch 70/184 - Training loss: 9.9147, Training Acc: 0.8295, Validation loss: 11.4099, Validation Acc: 0.8042\n",
      "Elapsed time: 68.39 sec\n",
      "Epoch 3/9 - Batch 80/184 - Training loss: 9.5554, Training Acc: 0.8352, Validation loss: 11.1790, Validation Acc: 0.8081\n",
      "Elapsed time: 69.48 sec\n",
      "Epoch 3/9 - Batch 90/184 - Training loss: 9.3835, Training Acc: 0.8361, Validation loss: 12.0663, Validation Acc: 0.7716\n",
      "Elapsed time: 70.53 sec\n",
      "Epoch 3/9 - Batch 100/184 - Training loss: 9.6330, Training Acc: 0.8313, Validation loss: 10.8970, Validation Acc: 0.8369\n",
      "Elapsed time: 71.66 sec\n",
      "Epoch 3/9 - Batch 110/184 - Training loss: 9.5227, Training Acc: 0.8364, Validation loss: 10.5058, Validation Acc: 0.8253\n",
      "Elapsed time: 72.67 sec\n",
      "Epoch 3/9 - Batch 120/184 - Training loss: 9.4622, Training Acc: 0.8370, Validation loss: 10.4013, Validation Acc: 0.8369\n",
      "Elapsed time: 73.78 sec\n",
      "Epoch 3/9 - Batch 130/184 - Training loss: 9.3870, Training Acc: 0.8385, Validation loss: 9.8541, Validation Acc: 0.8388\n",
      "Elapsed time: 74.91 sec\n",
      "Epoch 3/9 - Batch 140/184 - Training loss: 9.3417, Training Acc: 0.8402, Validation loss: 10.0477, Validation Acc: 0.8330\n",
      "Elapsed time: 76.00 sec\n",
      "Epoch 3/9 - Batch 150/184 - Training loss: 9.2711, Training Acc: 0.8425, Validation loss: 10.7299, Validation Acc: 0.8196\n",
      "Elapsed time: 77.11 sec\n",
      "Epoch 3/9 - Batch 160/184 - Training loss: 9.2137, Training Acc: 0.8441, Validation loss: 10.6100, Validation Acc: 0.8215\n",
      "Elapsed time: 78.20 sec\n",
      "Epoch 3/9 - Batch 170/184 - Training loss: 9.1647, Training Acc: 0.8452, Validation loss: 9.9643, Validation Acc: 0.8253\n",
      "Elapsed time: 79.31 sec\n",
      "Epoch 3/9 - Batch 180/184 - Training loss: 9.1678, Training Acc: 0.8465, Validation loss: 10.4333, Validation Acc: 0.8196\n",
      "Elapsed time: 80.39 sec\n",
      "Epoch 4/9 - Batch 10/184 - Training loss: 6.7337, Training Acc: 0.9125, Validation loss: 9.7387, Validation Acc: 0.8426\n",
      "Elapsed time: 81.53 sec\n",
      "Epoch 4/9 - Batch 20/184 - Training loss: 7.1791, Training Acc: 0.8875, Validation loss: 9.7649, Validation Acc: 0.8330\n",
      "Elapsed time: 82.66 sec\n",
      "Epoch 4/9 - Batch 30/184 - Training loss: 7.4392, Training Acc: 0.8729, Validation loss: 10.1582, Validation Acc: 0.8253\n",
      "Elapsed time: 83.77 sec\n",
      "Epoch 4/9 - Batch 40/184 - Training loss: 7.2943, Training Acc: 0.8719, Validation loss: 9.9603, Validation Acc: 0.8330\n",
      "Elapsed time: 84.91 sec\n",
      "Epoch 4/9 - Batch 50/184 - Training loss: 6.8789, Training Acc: 0.8838, Validation loss: 10.0114, Validation Acc: 0.8407\n",
      "Elapsed time: 86.08 sec\n",
      "Epoch 4/9 - Batch 60/184 - Training loss: 6.8597, Training Acc: 0.8896, Validation loss: 10.4266, Validation Acc: 0.8311\n",
      "Elapsed time: 87.22 sec\n",
      "Epoch 4/9 - Batch 70/184 - Training loss: 6.7279, Training Acc: 0.8911, Validation loss: 9.5009, Validation Acc: 0.8407\n",
      "Elapsed time: 88.33 sec\n",
      "Epoch 4/9 - Batch 80/184 - Training loss: 6.7274, Training Acc: 0.8930, Validation loss: 9.8621, Validation Acc: 0.8292\n",
      "Elapsed time: 89.42 sec\n",
      "Epoch 4/9 - Batch 90/184 - Training loss: 6.7409, Training Acc: 0.8903, Validation loss: 9.5938, Validation Acc: 0.8503\n",
      "Elapsed time: 90.55 sec\n",
      "Epoch 4/9 - Batch 100/184 - Training loss: 6.6548, Training Acc: 0.8919, Validation loss: 8.7943, Validation Acc: 0.8560\n",
      "Elapsed time: 91.70 sec\n",
      "Epoch 4/9 - Batch 110/184 - Training loss: 6.5995, Training Acc: 0.8920, Validation loss: 9.2795, Validation Acc: 0.8560\n",
      "Elapsed time: 92.80 sec\n",
      "Epoch 4/9 - Batch 120/184 - Training loss: 6.5484, Training Acc: 0.8922, Validation loss: 8.7991, Validation Acc: 0.8484\n",
      "Elapsed time: 93.94 sec\n",
      "Epoch 4/9 - Batch 130/184 - Training loss: 6.5658, Training Acc: 0.8923, Validation loss: 8.6218, Validation Acc: 0.8445\n",
      "Elapsed time: 95.02 sec\n",
      "Epoch 4/9 - Batch 140/184 - Training loss: 6.4183, Training Acc: 0.8951, Validation loss: 8.7911, Validation Acc: 0.8464\n",
      "Elapsed time: 96.09 sec\n",
      "Epoch 4/9 - Batch 150/184 - Training loss: 6.2806, Training Acc: 0.8983, Validation loss: 9.0094, Validation Acc: 0.8560\n",
      "Elapsed time: 97.16 sec\n",
      "Epoch 4/9 - Batch 160/184 - Training loss: 6.3695, Training Acc: 0.8969, Validation loss: 8.5858, Validation Acc: 0.8560\n",
      "Elapsed time: 98.30 sec\n",
      "Epoch 4/9 - Batch 170/184 - Training loss: 6.3705, Training Acc: 0.8971, Validation loss: 8.6502, Validation Acc: 0.8484\n",
      "Elapsed time: 99.39 sec\n",
      "Epoch 4/9 - Batch 180/184 - Training loss: 6.4612, Training Acc: 0.8944, Validation loss: 9.3079, Validation Acc: 0.8503\n",
      "Elapsed time: 100.50 sec\n",
      "Epoch 5/9 - Batch 10/184 - Training loss: 5.7304, Training Acc: 0.9062, Validation loss: 8.2136, Validation Acc: 0.8599\n",
      "Elapsed time: 101.92 sec\n",
      "Epoch 5/9 - Batch 20/184 - Training loss: 5.3273, Training Acc: 0.9125, Validation loss: 8.5931, Validation Acc: 0.8522\n",
      "Elapsed time: 103.03 sec\n",
      "Epoch 5/9 - Batch 30/184 - Training loss: 4.9459, Training Acc: 0.9229, Validation loss: 8.6098, Validation Acc: 0.8599\n",
      "Elapsed time: 104.14 sec\n",
      "Epoch 5/9 - Batch 40/184 - Training loss: 5.0222, Training Acc: 0.9172, Validation loss: 7.6349, Validation Acc: 0.8829\n",
      "Elapsed time: 105.27 sec\n",
      "Epoch 5/9 - Batch 50/184 - Training loss: 4.8767, Training Acc: 0.9200, Validation loss: 7.6066, Validation Acc: 0.8772\n",
      "Elapsed time: 106.41 sec\n",
      "Epoch 5/9 - Batch 60/184 - Training loss: 4.9221, Training Acc: 0.9187, Validation loss: 7.7340, Validation Acc: 0.8829\n",
      "Elapsed time: 107.45 sec\n",
      "Epoch 5/9 - Batch 70/184 - Training loss: 4.7958, Training Acc: 0.9250, Validation loss: 7.7255, Validation Acc: 0.8714\n",
      "Elapsed time: 108.48 sec\n",
      "Epoch 5/9 - Batch 80/184 - Training loss: 4.6407, Training Acc: 0.9289, Validation loss: 7.7075, Validation Acc: 0.8906\n",
      "Elapsed time: 109.58 sec\n",
      "Epoch 5/9 - Batch 90/184 - Training loss: 4.6729, Training Acc: 0.9278, Validation loss: 8.0414, Validation Acc: 0.8676\n",
      "Elapsed time: 110.69 sec\n",
      "Epoch 5/9 - Batch 100/184 - Training loss: 4.5753, Training Acc: 0.9306, Validation loss: 7.9445, Validation Acc: 0.8656\n",
      "Elapsed time: 111.81 sec\n",
      "Epoch 5/9 - Batch 110/184 - Training loss: 4.5586, Training Acc: 0.9307, Validation loss: 8.0947, Validation Acc: 0.8637\n",
      "Elapsed time: 112.95 sec\n",
      "Epoch 5/9 - Batch 120/184 - Training loss: 4.5925, Training Acc: 0.9302, Validation loss: 8.8465, Validation Acc: 0.8445\n",
      "Elapsed time: 114.08 sec\n",
      "Epoch 5/9 - Batch 130/184 - Training loss: 4.6347, Training Acc: 0.9288, Validation loss: 8.5316, Validation Acc: 0.8560\n",
      "Elapsed time: 115.22 sec\n",
      "Epoch 5/9 - Batch 140/184 - Training loss: 4.5803, Training Acc: 0.9290, Validation loss: 8.1083, Validation Acc: 0.8637\n",
      "Elapsed time: 116.38 sec\n",
      "Epoch 5/9 - Batch 150/184 - Training loss: 4.5096, Training Acc: 0.9304, Validation loss: 8.5016, Validation Acc: 0.8637\n",
      "Elapsed time: 117.45 sec\n",
      "Epoch 5/9 - Batch 160/184 - Training loss: 4.4834, Training Acc: 0.9316, Validation loss: 8.4242, Validation Acc: 0.8714\n",
      "Elapsed time: 118.48 sec\n",
      "Epoch 5/9 - Batch 170/184 - Training loss: 4.5185, Training Acc: 0.9305, Validation loss: 7.7629, Validation Acc: 0.8829\n",
      "Elapsed time: 119.64 sec\n",
      "Epoch 5/9 - Batch 180/184 - Training loss: 4.4689, Training Acc: 0.9309, Validation loss: 8.3574, Validation Acc: 0.8637\n",
      "Elapsed time: 120.77 sec\n",
      "Epoch 6/9 - Batch 10/184 - Training loss: 4.3010, Training Acc: 0.9375, Validation loss: 7.2833, Validation Acc: 0.8791\n",
      "Elapsed time: 122.06 sec\n",
      "Epoch 6/9 - Batch 20/184 - Training loss: 4.1160, Training Acc: 0.9375, Validation loss: 8.3758, Validation Acc: 0.8522\n",
      "Elapsed time: 123.16 sec\n",
      "Epoch 6/9 - Batch 30/184 - Training loss: 4.0625, Training Acc: 0.9354, Validation loss: 7.9980, Validation Acc: 0.8752\n",
      "Elapsed time: 124.30 sec\n",
      "Epoch 6/9 - Batch 40/184 - Training loss: 3.9546, Training Acc: 0.9375, Validation loss: 7.6727, Validation Acc: 0.8752\n",
      "Elapsed time: 125.47 sec\n",
      "Epoch 6/9 - Batch 50/184 - Training loss: 4.0102, Training Acc: 0.9350, Validation loss: 7.5435, Validation Acc: 0.8810\n",
      "Elapsed time: 126.59 sec\n",
      "Epoch 6/9 - Batch 60/184 - Training loss: 4.0834, Training Acc: 0.9354, Validation loss: 7.8333, Validation Acc: 0.8714\n",
      "Elapsed time: 127.64 sec\n",
      "Epoch 6/9 - Batch 70/184 - Training loss: 3.9394, Training Acc: 0.9384, Validation loss: 7.5494, Validation Acc: 0.8733\n",
      "Elapsed time: 128.77 sec\n",
      "Epoch 6/9 - Batch 80/184 - Training loss: 3.8270, Training Acc: 0.9414, Validation loss: 7.4179, Validation Acc: 0.8752\n",
      "Elapsed time: 129.84 sec\n",
      "Epoch 6/9 - Batch 90/184 - Training loss: 3.6846, Training Acc: 0.9444, Validation loss: 7.8012, Validation Acc: 0.8791\n",
      "Elapsed time: 130.95 sec\n",
      "Epoch 6/9 - Batch 100/184 - Training loss: 3.6848, Training Acc: 0.9444, Validation loss: 8.4571, Validation Acc: 0.8656\n",
      "Elapsed time: 132.11 sec\n",
      "Epoch 6/9 - Batch 110/184 - Training loss: 3.6505, Training Acc: 0.9449, Validation loss: 7.5761, Validation Acc: 0.8752\n",
      "Elapsed time: 133.23 sec\n",
      "Epoch 6/9 - Batch 120/184 - Training loss: 3.7028, Training Acc: 0.9437, Validation loss: 7.4996, Validation Acc: 0.8829\n",
      "Elapsed time: 134.36 sec\n",
      "Epoch 6/9 - Batch 130/184 - Training loss: 3.7421, Training Acc: 0.9423, Validation loss: 8.1046, Validation Acc: 0.8714\n",
      "Elapsed time: 135.42 sec\n",
      "Epoch 6/9 - Batch 140/184 - Training loss: 3.5999, Training Acc: 0.9455, Validation loss: 8.3227, Validation Acc: 0.8752\n",
      "Elapsed time: 136.50 sec\n",
      "Epoch 6/9 - Batch 150/184 - Training loss: 3.5371, Training Acc: 0.9471, Validation loss: 8.4721, Validation Acc: 0.8733\n",
      "Elapsed time: 137.67 sec\n",
      "Epoch 6/9 - Batch 160/184 - Training loss: 3.4982, Training Acc: 0.9477, Validation loss: 7.8078, Validation Acc: 0.8906\n",
      "Elapsed time: 138.73 sec\n",
      "Epoch 6/9 - Batch 170/184 - Training loss: 3.4201, Training Acc: 0.9485, Validation loss: 7.3277, Validation Acc: 0.8868\n",
      "Elapsed time: 139.77 sec\n",
      "Epoch 6/9 - Batch 180/184 - Training loss: 3.4883, Training Acc: 0.9465, Validation loss: 7.3427, Validation Acc: 0.8925\n",
      "Elapsed time: 140.92 sec\n",
      "Epoch 7/9 - Batch 10/184 - Training loss: 2.9177, Training Acc: 0.9563, Validation loss: 7.9980, Validation Acc: 0.8714\n",
      "Elapsed time: 142.30 sec\n",
      "Epoch 7/9 - Batch 20/184 - Training loss: 3.0182, Training Acc: 0.9625, Validation loss: 8.1926, Validation Acc: 0.8714\n",
      "Elapsed time: 143.45 sec\n",
      "Epoch 7/9 - Batch 30/184 - Training loss: 2.9690, Training Acc: 0.9583, Validation loss: 7.3044, Validation Acc: 0.8810\n",
      "Elapsed time: 144.56 sec\n",
      "Epoch 7/9 - Batch 40/184 - Training loss: 2.7679, Training Acc: 0.9578, Validation loss: 7.3191, Validation Acc: 0.8791\n",
      "Elapsed time: 145.70 sec\n",
      "Epoch 7/9 - Batch 50/184 - Training loss: 2.6877, Training Acc: 0.9587, Validation loss: 7.4958, Validation Acc: 0.8791\n",
      "Elapsed time: 146.77 sec\n",
      "Epoch 7/9 - Batch 60/184 - Training loss: 2.7544, Training Acc: 0.9563, Validation loss: 7.9314, Validation Acc: 0.8656\n",
      "Elapsed time: 147.91 sec\n",
      "Epoch 7/9 - Batch 70/184 - Training loss: 2.6681, Training Acc: 0.9580, Validation loss: 7.7152, Validation Acc: 0.8810\n",
      "Elapsed time: 148.97 sec\n",
      "Epoch 7/9 - Batch 80/184 - Training loss: 2.6320, Training Acc: 0.9594, Validation loss: 7.3731, Validation Acc: 0.8829\n",
      "Elapsed time: 150.06 sec\n",
      "Epoch 7/9 - Batch 90/184 - Training loss: 2.6080, Training Acc: 0.9590, Validation loss: 7.2686, Validation Acc: 0.8829\n",
      "Elapsed time: 151.14 sec\n",
      "Epoch 7/9 - Batch 100/184 - Training loss: 2.6590, Training Acc: 0.9581, Validation loss: 7.6065, Validation Acc: 0.8848\n",
      "Elapsed time: 152.20 sec\n",
      "Epoch 7/9 - Batch 110/184 - Training loss: 2.5732, Training Acc: 0.9602, Validation loss: 8.2447, Validation Acc: 0.8752\n",
      "Elapsed time: 153.30 sec\n",
      "Epoch 7/9 - Batch 120/184 - Training loss: 2.5935, Training Acc: 0.9604, Validation loss: 8.0013, Validation Acc: 0.8733\n",
      "Elapsed time: 154.34 sec\n",
      "Epoch 7/9 - Batch 130/184 - Training loss: 2.5879, Training Acc: 0.9611, Validation loss: 7.4144, Validation Acc: 0.8887\n",
      "Elapsed time: 155.50 sec\n",
      "Epoch 7/9 - Batch 140/184 - Training loss: 2.5221, Training Acc: 0.9625, Validation loss: 7.4773, Validation Acc: 0.8791\n",
      "Elapsed time: 156.59 sec\n",
      "Epoch 7/9 - Batch 150/184 - Training loss: 2.5079, Training Acc: 0.9633, Validation loss: 7.4270, Validation Acc: 0.8772\n",
      "Elapsed time: 157.72 sec\n",
      "Epoch 7/9 - Batch 160/184 - Training loss: 2.4742, Training Acc: 0.9621, Validation loss: 7.4415, Validation Acc: 0.8848\n",
      "Elapsed time: 158.77 sec\n",
      "Epoch 7/9 - Batch 170/184 - Training loss: 2.4939, Training Acc: 0.9610, Validation loss: 7.0469, Validation Acc: 0.8868\n",
      "Elapsed time: 159.81 sec\n",
      "Epoch 7/9 - Batch 180/184 - Training loss: 2.4597, Training Acc: 0.9611, Validation loss: 7.1298, Validation Acc: 0.8925\n",
      "Elapsed time: 160.92 sec\n",
      "Epoch 8/9 - Batch 10/184 - Training loss: 2.0151, Training Acc: 0.9563, Validation loss: 7.4399, Validation Acc: 0.8752\n",
      "Elapsed time: 162.25 sec\n",
      "Epoch 8/9 - Batch 20/184 - Training loss: 1.8549, Training Acc: 0.9656, Validation loss: 7.0604, Validation Acc: 0.8906\n",
      "Elapsed time: 163.23 sec\n",
      "Epoch 8/9 - Batch 30/184 - Training loss: 1.5957, Training Acc: 0.9750, Validation loss: 6.9833, Validation Acc: 0.8983\n",
      "Elapsed time: 164.38 sec\n",
      "Epoch 8/9 - Batch 40/184 - Training loss: 1.7102, Training Acc: 0.9766, Validation loss: 7.2780, Validation Acc: 0.8868\n",
      "Elapsed time: 165.50 sec\n",
      "Epoch 8/9 - Batch 50/184 - Training loss: 1.8079, Training Acc: 0.9750, Validation loss: 7.1829, Validation Acc: 0.8944\n",
      "Elapsed time: 166.50 sec\n",
      "Epoch 8/9 - Batch 60/184 - Training loss: 1.6878, Training Acc: 0.9781, Validation loss: 7.4030, Validation Acc: 0.8887\n",
      "Elapsed time: 167.58 sec\n",
      "Epoch 8/9 - Batch 70/184 - Training loss: 1.6764, Training Acc: 0.9777, Validation loss: 7.4774, Validation Acc: 0.8925\n",
      "Elapsed time: 168.75 sec\n",
      "Epoch 8/9 - Batch 80/184 - Training loss: 1.6360, Training Acc: 0.9781, Validation loss: 7.4676, Validation Acc: 0.8887\n",
      "Elapsed time: 169.89 sec\n",
      "Epoch 8/9 - Batch 90/184 - Training loss: 1.7648, Training Acc: 0.9757, Validation loss: 7.4948, Validation Acc: 0.8714\n",
      "Elapsed time: 171.02 sec\n",
      "Epoch 8/9 - Batch 100/184 - Training loss: 1.7950, Training Acc: 0.9744, Validation loss: 7.6957, Validation Acc: 0.8695\n",
      "Elapsed time: 172.14 sec\n",
      "Epoch 8/9 - Batch 110/184 - Training loss: 1.7665, Training Acc: 0.9750, Validation loss: 7.9189, Validation Acc: 0.8906\n",
      "Elapsed time: 173.23 sec\n",
      "Epoch 8/9 - Batch 120/184 - Training loss: 1.8107, Training Acc: 0.9740, Validation loss: 7.2684, Validation Acc: 0.8868\n",
      "Elapsed time: 174.41 sec\n",
      "Epoch 8/9 - Batch 130/184 - Training loss: 1.8073, Training Acc: 0.9731, Validation loss: 8.0045, Validation Acc: 0.8791\n",
      "Elapsed time: 175.56 sec\n",
      "Epoch 8/9 - Batch 140/184 - Training loss: 1.9063, Training Acc: 0.9710, Validation loss: 7.7467, Validation Acc: 0.8829\n",
      "Elapsed time: 176.72 sec\n",
      "Epoch 8/9 - Batch 150/184 - Training loss: 1.8787, Training Acc: 0.9708, Validation loss: 7.3805, Validation Acc: 0.8868\n",
      "Elapsed time: 177.77 sec\n",
      "Epoch 8/9 - Batch 160/184 - Training loss: 1.8721, Training Acc: 0.9711, Validation loss: 7.5375, Validation Acc: 0.8944\n",
      "Elapsed time: 178.89 sec\n",
      "Epoch 8/9 - Batch 170/184 - Training loss: 1.9825, Training Acc: 0.9688, Validation loss: 7.4774, Validation Acc: 0.8906\n",
      "Elapsed time: 179.98 sec\n",
      "Epoch 8/9 - Batch 180/184 - Training loss: 1.9545, Training Acc: 0.9691, Validation loss: 8.5812, Validation Acc: 0.8676\n",
      "Elapsed time: 181.14 sec\n",
      "Epoch 9/9 - Batch 10/184 - Training loss: 0.9811, Training Acc: 0.9875, Validation loss: 7.3000, Validation Acc: 0.8868\n",
      "Elapsed time: 182.39 sec\n",
      "Epoch 9/9 - Batch 20/184 - Training loss: 1.2205, Training Acc: 0.9844, Validation loss: 7.4715, Validation Acc: 0.8868\n",
      "Elapsed time: 183.48 sec\n",
      "Epoch 9/9 - Batch 30/184 - Training loss: 1.2502, Training Acc: 0.9812, Validation loss: 7.3505, Validation Acc: 0.8925\n",
      "Elapsed time: 184.64 sec\n",
      "Epoch 9/9 - Batch 40/184 - Training loss: 1.2029, Training Acc: 0.9828, Validation loss: 7.7615, Validation Acc: 0.8848\n",
      "Elapsed time: 185.83 sec\n",
      "Epoch 9/9 - Batch 50/184 - Training loss: 1.2641, Training Acc: 0.9812, Validation loss: 7.6382, Validation Acc: 0.8906\n",
      "Elapsed time: 186.91 sec\n",
      "Epoch 9/9 - Batch 60/184 - Training loss: 1.2897, Training Acc: 0.9812, Validation loss: 8.2164, Validation Acc: 0.8848\n",
      "Elapsed time: 187.97 sec\n",
      "Epoch 9/9 - Batch 70/184 - Training loss: 1.3919, Training Acc: 0.9777, Validation loss: 8.5524, Validation Acc: 0.8848\n",
      "Elapsed time: 189.05 sec\n",
      "Epoch 9/9 - Batch 80/184 - Training loss: 1.3526, Training Acc: 0.9781, Validation loss: 7.4647, Validation Acc: 0.8964\n",
      "Elapsed time: 190.12 sec\n",
      "Epoch 9/9 - Batch 90/184 - Training loss: 1.4368, Training Acc: 0.9771, Validation loss: 7.4078, Validation Acc: 0.8868\n",
      "Elapsed time: 191.11 sec\n",
      "Epoch 9/9 - Batch 100/184 - Training loss: 1.4882, Training Acc: 0.9756, Validation loss: 7.3141, Validation Acc: 0.8868\n",
      "Elapsed time: 192.27 sec\n",
      "Epoch 9/9 - Batch 110/184 - Training loss: 1.5199, Training Acc: 0.9744, Validation loss: 7.9704, Validation Acc: 0.8868\n",
      "Elapsed time: 193.39 sec\n",
      "Epoch 9/9 - Batch 120/184 - Training loss: 1.5929, Training Acc: 0.9740, Validation loss: 7.6913, Validation Acc: 0.8944\n",
      "Elapsed time: 194.48 sec\n",
      "Epoch 9/9 - Batch 130/184 - Training loss: 1.5558, Training Acc: 0.9755, Validation loss: 7.8719, Validation Acc: 0.8944\n",
      "Elapsed time: 195.61 sec\n",
      "Epoch 9/9 - Batch 140/184 - Training loss: 1.5993, Training Acc: 0.9754, Validation loss: 7.5228, Validation Acc: 0.8906\n",
      "Elapsed time: 196.73 sec\n",
      "Epoch 9/9 - Batch 150/184 - Training loss: 1.6402, Training Acc: 0.9750, Validation loss: 7.6510, Validation Acc: 0.8906\n",
      "Elapsed time: 197.78 sec\n",
      "Epoch 9/9 - Batch 160/184 - Training loss: 1.6368, Training Acc: 0.9738, Validation loss: 8.1142, Validation Acc: 0.8733\n",
      "Elapsed time: 198.80 sec\n",
      "Epoch 9/9 - Batch 170/184 - Training loss: 1.6040, Training Acc: 0.9746, Validation loss: 8.4322, Validation Acc: 0.8752\n",
      "Elapsed time: 199.84 sec\n",
      "Epoch 9/9 - Batch 180/184 - Training loss: 1.6115, Training Acc: 0.9747, Validation loss: 7.6827, Validation Acc: 0.8848\n",
      "Elapsed time: 200.97 sec\n"
     ]
    }
   ],
   "source": [
    "start_time = time.process_time()\n",
    "\n",
    "for epoch in range(epochs):\n",
    "\n",
    "    # switch to train mode\n",
    "    cat_model.train()\n",
    "\n",
    "    total_train_loss = 0\n",
    "    correct_train = 0\n",
    "    trained_sample = 0\n",
    "\n",
    "    for i, batch in enumerate(train_loader):\n",
    "        X, y = [item.to(device) for item in batch[:2]]\n",
    "\n",
    "        # forward pass \n",
    "        yHat = cat_model(X)\n",
    "        loss = lossfun(yHat,y)\n",
    "\n",
    "        total_train_loss += loss.item()\n",
    "        correct_train += (yHat.argmax(dim=1) == y).sum().item()\n",
    "        trained_sample += batch_size\n",
    "\n",
    "        # backprop\n",
    "        optimizer.zero_grad()\n",
    "        loss.backward()\n",
    "        optimizer.step()\n",
    "\n",
    "        # check val results during training\n",
    "        if (i + 1) % batch_print_interval == 0:\n",
    "            cat_model.eval()\n",
    "            total_val_loss = 0\n",
    "            correct_val = 0\n",
    "\n",
    "            with torch.no_grad():\n",
    "                for batch in test_loader:\n",
    "                    X, y = [item.to(device) for item in batch[:2]]\n",
    "\n",
    "                    # pred and get loss\n",
    "                    yHat = cat_model(X)\n",
    "                    loss = lossfun(yHat,y)\n",
    "\n",
    "                    total_val_loss += loss.item()\n",
    "                    correct_val += (yHat.argmax(dim=1) == y).sum().item()\n",
    "            # end of eval loop\n",
    "\n",
    "            avg_val_loss = total_val_loss / len(test_loader)\n",
    "            val_acc = correct_val / len(test_loader.dataset)\n",
    "            avg_train_loss = total_train_loss / (i + 1)  # current average for this epoch up to batch i\n",
    "            train_acc = correct_train / trained_sample\n",
    "            print(f\"Epoch {epoch}/{epochs-1} - Batch {i+1}/{len(train_loader)} \"\n",
    "                f\"- Training loss: {avg_train_loss:.4f}, Training Acc: {train_acc:.4f}, \"\n",
    "                f\"Validation loss: {avg_val_loss:.4f}, Validation Acc: {val_acc:.4f}\")\n",
    "            cat_model.train()  # Switch back to training mode\n",
    "\n",
    "            elapsed_time = time.process_time() - start_time\n",
    "            print(f'Elapsed time: {elapsed_time:.2f} sec')\n",
    "\n",
    "    # end of batch loop\n",
    "    history['train_loss'].append(avg_train_loss)\n",
    "    history['train_acc'].append(train_acc)        \n",
    "    history['val_loss'].append(avg_val_loss)\n",
    "    history['val_acc'].append(val_acc)\n",
    "\n",
    "    # Update learning rate\n",
    "    scheduler.step(avg_val_loss)\n",
    "    if avg_val_loss < best_val_loss:\n",
    "        best_val_loss = avg_val_loss\n",
    "        no_improvement_epochs = 0\n",
    "    else:\n",
    "        no_improvement_epochs += 1           \n",
    "    if no_improvement_epochs >= early_stop:\n",
    "        print(f\"Stopping early due to no improvement after {early_stop} epochs.\")\n",
    "        break"
   ]
  },
  {
   "cell_type": "code",
   "execution_count": 200,
   "metadata": {},
   "outputs": [],
   "source": [
    "# save model\n",
    "cat_model.to('cpu')\n",
    "cat_model_save_path = 'model/test_model.pt'\n",
    "torch.save(cat_model.state_dict(), cat_model_save_path)"
   ]
  },
  {
   "cell_type": "code",
   "execution_count": 201,
   "metadata": {},
   "outputs": [
    {
     "data": {
      "image/png": "[encoded data removed]",
      "text/plain": [
       "<Figure size 1200x500 with 2 Axes>"
      ]
     },
     "metadata": {},
     "output_type": "display_data"
    }
   ],
   "source": [
    "plt.figure(figsize=(12, 5))\n",
    "plt.subplot(1, 2, 1)\n",
    "plt.plot(history['train_loss'], label='Training Loss')\n",
    "plt.plot(history['val_loss'], label='Validation Loss')\n",
    "plt.xlabel('Epochs')\n",
    "plt.ylabel('Loss')\n",
    "plt.title('Training vs Validation Loss')\n",
    "plt.legend()\n",
    "# Plot training and validation accuracy\n",
    "plt.subplot(1, 2, 2)\n",
    "plt.plot(history['train_acc'], label='Training Accuracy')\n",
    "plt.plot(history['val_acc'], label='Validation Accuracy')\n",
    "plt.xlabel('Epochs')\n",
    "plt.ylabel('Accuracy')\n",
    "plt.title('Training vs Validation Accuracy')\n",
    "plt.legend()\n",
    "plt.tight_layout()\n",
    "plt.show()"
   ]
  },
  {
   "cell_type": "markdown",
   "metadata": {},
   "source": [
    "### quick test inference"
   ]
  },
  {
   "cell_type": "code",
   "execution_count": 215,
   "metadata": {},
   "outputs": [
    {
     "data": {
      "text/html": [
       "<div>\n",
       "<style scoped>\n",
       "    .dataframe tbody tr th:only-of-type {\n",
       "        vertical-align: middle;\n",
       "    }\n",
       "\n",
       "    .dataframe tbody tr th {\n",
       "        vertical-align: top;\n",
       "    }\n",
       "\n",
       "    .dataframe thead th {\n",
       "        text-align: right;\n",
       "    }\n",
       "</style>\n",
       "<table border=\"1\" class=\"dataframe\">\n",
       "  <thead>\n",
       "    <tr style=\"text-align: right;\">\n",
       "      <th></th>\n",
       "      <th>name</th>\n",
       "      <th>label</th>\n",
       "    </tr>\n",
       "  </thead>\n",
       "  <tbody>\n",
       "    <tr>\n",
       "      <th>1977</th>\n",
       "      <td>doc martens adrian</td>\n",
       "      <td>Clothes</td>\n",
       "    </tr>\n",
       "    <tr>\n",
       "      <th>2436</th>\n",
       "      <td>fisherprice linkimals smooth moves sloth music...</td>\n",
       "      <td>Kids</td>\n",
       "    </tr>\n",
       "    <tr>\n",
       "      <th>2804</th>\n",
       "      <td>oneplus pro</td>\n",
       "      <td>Electronics</td>\n",
       "    </tr>\n",
       "    <tr>\n",
       "      <th>851</th>\n",
       "      <td>grand mercure</td>\n",
       "      <td>Vacation</td>\n",
       "    </tr>\n",
       "    <tr>\n",
       "      <th>1353</th>\n",
       "      <td>samsung galaxy plus led wallet cover</td>\n",
       "      <td>Electronics</td>\n",
       "    </tr>\n",
       "  </tbody>\n",
       "</table>\n",
       "</div>"
      ],
      "text/plain": [
       "                                                   name        label\n",
       "1977                                 doc martens adrian      Clothes\n",
       "2436  fisherprice linkimals smooth moves sloth music...         Kids\n",
       "2804                                        oneplus pro  Electronics\n",
       "851                                       grand mercure     Vacation\n",
       "1353               samsung galaxy plus led wallet cover  Electronics"
      ]
     },
     "execution_count": 215,
     "metadata": {},
     "output_type": "execute_result"
    }
   ],
   "source": [
    "sample_test_df = txsn[['name', 'label']].sample(5)\n",
    "sample_test_df"
   ]
  },
  {
   "cell_type": "code",
   "execution_count": 216,
   "metadata": {},
   "outputs": [],
   "source": [
    "sample_test_df['Tokenized'] = [\n",
    "    tokenizer.tokenize(text) for text in sample_test_df['name']]\n",
    "sample_test_df['Tokenized_ids'] = [\n",
    "    tokenizer.convert_tokens_to_ids(tokens) for tokens in sample_test_df['Tokenized'].to_list()]\n"
   ]
  },
  {
   "cell_type": "code",
   "execution_count": 220,
   "metadata": {},
   "outputs": [
    {
     "data": {
      "text/plain": [
       "13"
      ]
     },
     "execution_count": 220,
     "metadata": {},
     "output_type": "execute_result"
    }
   ],
   "source": [
    "sample_maxlen = max([len(tokens) for tokens in sample_test_df['Tokenized_ids'].to_list()])\n",
    "sample_maxlen"
   ]
  },
  {
   "cell_type": "code",
   "execution_count": 221,
   "metadata": {},
   "outputs": [],
   "source": [
    "sample_padded_desc = tf.keras.preprocessing.sequence.pad_sequences(\n",
    "    sample_test_df['Tokenized_ids'].to_list(), maxlen=sample_maxlen, \n",
    "    padding='post', truncating='post')\n",
    "sample_test_df['Tokenized_padded'] = np.array(sample_padded_desc).tolist()"
   ]
  },
  {
   "cell_type": "code",
   "execution_count": 222,
   "metadata": {},
   "outputs": [
    {
     "data": {
      "text/html": [
       "<div>\n",
       "<style scoped>\n",
       "    .dataframe tbody tr th:only-of-type {\n",
       "        vertical-align: middle;\n",
       "    }\n",
       "\n",
       "    .dataframe tbody tr th {\n",
       "        vertical-align: top;\n",
       "    }\n",
       "\n",
       "    .dataframe thead th {\n",
       "        text-align: right;\n",
       "    }\n",
       "</style>\n",
       "<table border=\"1\" class=\"dataframe\">\n",
       "  <thead>\n",
       "    <tr style=\"text-align: right;\">\n",
       "      <th></th>\n",
       "      <th>name</th>\n",
       "      <th>label</th>\n",
       "      <th>Tokenized</th>\n",
       "      <th>Tokenized_ids</th>\n",
       "      <th>Tokenized_padded</th>\n",
       "    </tr>\n",
       "  </thead>\n",
       "  <tbody>\n",
       "    <tr>\n",
       "      <th>1977</th>\n",
       "      <td>doc martens adrian</td>\n",
       "      <td>Clothes</td>\n",
       "      <td>[doc, mart, ##ens, adrian]</td>\n",
       "      <td>[9986, 20481, 6132, 7918]</td>\n",
       "      <td>[9986, 20481, 6132, 7918, 0, 0, 0, 0, 0, 0, 0,...</td>\n",
       "    </tr>\n",
       "    <tr>\n",
       "      <th>2436</th>\n",
       "      <td>fisherprice linkimals smooth moves sloth music...</td>\n",
       "      <td>Kids</td>\n",
       "      <td>[fisher, ##pr, ##ice, link, ##ima, ##ls, smoot...</td>\n",
       "      <td>[8731, 18098, 6610, 4957, 9581, 4877, 5744, 58...</td>\n",
       "      <td>[8731, 18098, 6610, 4957, 9581, 4877, 5744, 58...</td>\n",
       "    </tr>\n",
       "    <tr>\n",
       "      <th>2804</th>\n",
       "      <td>oneplus pro</td>\n",
       "      <td>Electronics</td>\n",
       "      <td>[one, ##pl, ##us, pro]</td>\n",
       "      <td>[2028, 24759, 2271, 4013]</td>\n",
       "      <td>[2028, 24759, 2271, 4013, 0, 0, 0, 0, 0, 0, 0,...</td>\n",
       "    </tr>\n",
       "    <tr>\n",
       "      <th>851</th>\n",
       "      <td>grand mercure</td>\n",
       "      <td>Vacation</td>\n",
       "      <td>[grand, mer, ##cure]</td>\n",
       "      <td>[2882, 21442, 23887]</td>\n",
       "      <td>[2882, 21442, 23887, 0, 0, 0, 0, 0, 0, 0, 0, 0...</td>\n",
       "    </tr>\n",
       "    <tr>\n",
       "      <th>1353</th>\n",
       "      <td>samsung galaxy plus led wallet cover</td>\n",
       "      <td>Electronics</td>\n",
       "      <td>[samsung, galaxy, plus, led, wallet, cover]</td>\n",
       "      <td>[19102, 9088, 4606, 2419, 15882, 3104]</td>\n",
       "      <td>[19102, 9088, 4606, 2419, 15882, 3104, 0, 0, 0...</td>\n",
       "    </tr>\n",
       "  </tbody>\n",
       "</table>\n",
       "</div>"
      ],
      "text/plain": [
       "                                                   name        label  \\\n",
       "1977                                 doc martens adrian      Clothes   \n",
       "2436  fisherprice linkimals smooth moves sloth music...         Kids   \n",
       "2804                                        oneplus pro  Electronics   \n",
       "851                                       grand mercure     Vacation   \n",
       "1353               samsung galaxy plus led wallet cover  Electronics   \n",
       "\n",
       "                                              Tokenized  \\\n",
       "1977                         [doc, mart, ##ens, adrian]   \n",
       "2436  [fisher, ##pr, ##ice, link, ##ima, ##ls, smoot...   \n",
       "2804                             [one, ##pl, ##us, pro]   \n",
       "851                                [grand, mer, ##cure]   \n",
       "1353        [samsung, galaxy, plus, led, wallet, cover]   \n",
       "\n",
       "                                          Tokenized_ids  \\\n",
       "1977                          [9986, 20481, 6132, 7918]   \n",
       "2436  [8731, 18098, 6610, 4957, 9581, 4877, 5744, 58...   \n",
       "2804                          [2028, 24759, 2271, 4013]   \n",
       "851                                [2882, 21442, 23887]   \n",
       "1353             [19102, 9088, 4606, 2419, 15882, 3104]   \n",
       "\n",
       "                                       Tokenized_padded  \n",
       "1977  [9986, 20481, 6132, 7918, 0, 0, 0, 0, 0, 0, 0,...  \n",
       "2436  [8731, 18098, 6610, 4957, 9581, 4877, 5744, 58...  \n",
       "2804  [2028, 24759, 2271, 4013, 0, 0, 0, 0, 0, 0, 0,...  \n",
       "851   [2882, 21442, 23887, 0, 0, 0, 0, 0, 0, 0, 0, 0...  \n",
       "1353  [19102, 9088, 4606, 2419, 15882, 3104, 0, 0, 0...  "
      ]
     },
     "execution_count": 222,
     "metadata": {},
     "output_type": "execute_result"
    }
   ],
   "source": [
    "sample_test_df"
   ]
  },
  {
   "cell_type": "code",
   "execution_count": 237,
   "metadata": {},
   "outputs": [
    {
     "name": "stdout",
     "output_type": "stream",
     "text": [
      "Length of predict_dataloader: 5\n"
     ]
    }
   ],
   "source": [
    "predict_input_ids = torch.tensor(\n",
    "    np.array(sample_padded_desc).tolist(), dtype=torch.long)\n",
    "predict_dataset = TensorDataset(predict_input_ids)\n",
    "predict_dataloader = DataLoader(predict_dataset, \n",
    "                batch_size=1)\n",
    "\n",
    "print(\"Length of predict_dataloader:\", len(predict_dataloader))"
   ]
  },
  {
   "cell_type": "code",
   "execution_count": 233,
   "metadata": {},
   "outputs": [
    {
     "name": "stderr",
     "output_type": "stream",
     "text": [
      "Some weights of BertForSequenceClassification were not initialized from the model checkpoint at bert-base-uncased and are newly initialized: ['classifier.bias', 'classifier.weight']\n",
      "You should probably TRAIN this model on a down-stream task to be able to use it for predictions and inference.\n"
     ]
    },
    {
     "data": {
      "text/plain": [
       "CategorizerModel(\n",
       "  (bert_model): BertForSequenceClassification(\n",
       "    (bert): BertModel(\n",
       "      (embeddings): BertEmbeddings(\n",
       "        (word_embeddings): Embedding(30522, 768, padding_idx=0)\n",
       "        (position_embeddings): Embedding(512, 768)\n",
       "        (token_type_embeddings): Embedding(2, 768)\n",
       "        (LayerNorm): LayerNorm((768,), eps=1e-12, elementwise_affine=True)\n",
       "        (dropout): Dropout(p=0.1, inplace=False)\n",
       "      )\n",
       "      (encoder): BertEncoder(\n",
       "        (layer): ModuleList(\n",
       "          (0-11): 12 x BertLayer(\n",
       "            (attention): BertAttention(\n",
       "              (self): BertSelfAttention(\n",
       "                (query): Linear(in_features=768, out_features=768, bias=True)\n",
       "                (key): Linear(in_features=768, out_features=768, bias=True)\n",
       "                (value): Linear(in_features=768, out_features=768, bias=True)\n",
       "                (dropout): Dropout(p=0.1, inplace=False)\n",
       "              )\n",
       "              (output): BertSelfOutput(\n",
       "                (dense): Linear(in_features=768, out_features=768, bias=True)\n",
       "                (LayerNorm): LayerNorm((768,), eps=1e-12, elementwise_affine=True)\n",
       "                (dropout): Dropout(p=0.1, inplace=False)\n",
       "              )\n",
       "            )\n",
       "            (intermediate): BertIntermediate(\n",
       "              (dense): Linear(in_features=768, out_features=3072, bias=True)\n",
       "              (intermediate_act_fn): GELUActivation()\n",
       "            )\n",
       "            (output): BertOutput(\n",
       "              (dense): Linear(in_features=3072, out_features=768, bias=True)\n",
       "              (LayerNorm): LayerNorm((768,), eps=1e-12, elementwise_affine=True)\n",
       "              (dropout): Dropout(p=0.1, inplace=False)\n",
       "            )\n",
       "          )\n",
       "        )\n",
       "      )\n",
       "      (pooler): BertPooler(\n",
       "        (dense): Linear(in_features=768, out_features=768, bias=True)\n",
       "        (activation): Tanh()\n",
       "      )\n",
       "    )\n",
       "    (dropout): Dropout(p=0.1, inplace=False)\n",
       "    (classifier): Linear(in_features=768, out_features=11, bias=True)\n",
       "  )\n",
       ")"
      ]
     },
     "execution_count": 233,
     "metadata": {},
     "output_type": "execute_result"
    }
   ],
   "source": [
    "loaded_model = CategorizerModel(num_cat=num_cat)\n",
    "# Load the saved model weights\n",
    "loaded_state_dict = torch.load(cat_model_save_path)\n",
    "# Load the model state dictionary into the model architecture\n",
    "loaded_model.load_state_dict(loaded_state_dict)\n",
    "# Set the model to evaluation mode\n",
    "loaded_model.eval()"
   ]
  },
  {
   "cell_type": "code",
   "execution_count": 259,
   "metadata": {},
   "outputs": [
    {
     "name": "stdout",
     "output_type": "stream",
     "text": [
      "Using device: cuda\n"
     ]
    }
   ],
   "source": [
    "txt_mapper = dict(zip(unique_cats, integer_encoded_cat))\n",
    "inverse_dict = {v: k for k, v in txt_mapper.items()}\n",
    "\n",
    "device = torch.device(\"cuda\" if torch.cuda.is_available() else \"cpu\")\n",
    "print(\"Using device:\", device)\n",
    "\n",
    "loaded_model.to(device)\n",
    "\n",
    "pred_cat_txt = []\n",
    "for batch in predict_dataloader:\n",
    "    input_ids = batch[0].to(device)\n",
    "    with torch.no_grad():\n",
    "        category_probs = loaded_model(input_ids)\n",
    "        category_predictions = torch.argmax(category_probs,axis=1).item()\n",
    "        pred_cat_txt.append(inverse_dict.get(category_predictions, ''))"
   ]
  },
  {
   "cell_type": "code",
   "execution_count": 254,
   "metadata": {},
   "outputs": [],
   "source": [
    "sample_test_df['pred_cat'] = pred_cat_txt"
   ]
  },
  {
   "cell_type": "code",
   "execution_count": 255,
   "metadata": {},
   "outputs": [
    {
     "data": {
      "text/html": [
       "<div>\n",
       "<style scoped>\n",
       "    .dataframe tbody tr th:only-of-type {\n",
       "        vertical-align: middle;\n",
       "    }\n",
       "\n",
       "    .dataframe tbody tr th {\n",
       "        vertical-align: top;\n",
       "    }\n",
       "\n",
       "    .dataframe thead th {\n",
       "        text-align: right;\n",
       "    }\n",
       "</style>\n",
       "<table border=\"1\" class=\"dataframe\">\n",
       "  <thead>\n",
       "    <tr style=\"text-align: right;\">\n",
       "      <th></th>\n",
       "      <th>name</th>\n",
       "      <th>label</th>\n",
       "      <th>Tokenized</th>\n",
       "      <th>Tokenized_ids</th>\n",
       "      <th>Tokenized_padded</th>\n",
       "      <th>pred_cat</th>\n",
       "    </tr>\n",
       "  </thead>\n",
       "  <tbody>\n",
       "    <tr>\n",
       "      <th>1977</th>\n",
       "      <td>doc martens adrian</td>\n",
       "      <td>Clothes</td>\n",
       "      <td>[doc, mart, ##ens, adrian]</td>\n",
       "      <td>[9986, 20481, 6132, 7918]</td>\n",
       "      <td>[9986, 20481, 6132, 7918, 0, 0, 0, 0, 0, 0, 0,...</td>\n",
       "      <td>Clothes</td>\n",
       "    </tr>\n",
       "    <tr>\n",
       "      <th>2436</th>\n",
       "      <td>fisherprice linkimals smooth moves sloth music...</td>\n",
       "      <td>Kids</td>\n",
       "      <td>[fisher, ##pr, ##ice, link, ##ima, ##ls, smoot...</td>\n",
       "      <td>[8731, 18098, 6610, 4957, 9581, 4877, 5744, 58...</td>\n",
       "      <td>[8731, 18098, 6610, 4957, 9581, 4877, 5744, 58...</td>\n",
       "      <td>Kids</td>\n",
       "    </tr>\n",
       "    <tr>\n",
       "      <th>2804</th>\n",
       "      <td>oneplus pro</td>\n",
       "      <td>Electronics</td>\n",
       "      <td>[one, ##pl, ##us, pro]</td>\n",
       "      <td>[2028, 24759, 2271, 4013]</td>\n",
       "      <td>[2028, 24759, 2271, 4013, 0, 0, 0, 0, 0, 0, 0,...</td>\n",
       "      <td>Electronics</td>\n",
       "    </tr>\n",
       "    <tr>\n",
       "      <th>851</th>\n",
       "      <td>grand mercure</td>\n",
       "      <td>Vacation</td>\n",
       "      <td>[grand, mer, ##cure]</td>\n",
       "      <td>[2882, 21442, 23887]</td>\n",
       "      <td>[2882, 21442, 23887, 0, 0, 0, 0, 0, 0, 0, 0, 0...</td>\n",
       "      <td>Vacation</td>\n",
       "    </tr>\n",
       "    <tr>\n",
       "      <th>1353</th>\n",
       "      <td>samsung galaxy plus led wallet cover</td>\n",
       "      <td>Electronics</td>\n",
       "      <td>[samsung, galaxy, plus, led, wallet, cover]</td>\n",
       "      <td>[19102, 9088, 4606, 2419, 15882, 3104]</td>\n",
       "      <td>[19102, 9088, 4606, 2419, 15882, 3104, 0, 0, 0...</td>\n",
       "      <td>Electronics</td>\n",
       "    </tr>\n",
       "  </tbody>\n",
       "</table>\n",
       "</div>"
      ],
      "text/plain": [
       "                                                   name        label  \\\n",
       "1977                                 doc martens adrian      Clothes   \n",
       "2436  fisherprice linkimals smooth moves sloth music...         Kids   \n",
       "2804                                        oneplus pro  Electronics   \n",
       "851                                       grand mercure     Vacation   \n",
       "1353               samsung galaxy plus led wallet cover  Electronics   \n",
       "\n",
       "                                              Tokenized  \\\n",
       "1977                         [doc, mart, ##ens, adrian]   \n",
       "2436  [fisher, ##pr, ##ice, link, ##ima, ##ls, smoot...   \n",
       "2804                             [one, ##pl, ##us, pro]   \n",
       "851                                [grand, mer, ##cure]   \n",
       "1353        [samsung, galaxy, plus, led, wallet, cover]   \n",
       "\n",
       "                                          Tokenized_ids  \\\n",
       "1977                          [9986, 20481, 6132, 7918]   \n",
       "2436  [8731, 18098, 6610, 4957, 9581, 4877, 5744, 58...   \n",
       "2804                          [2028, 24759, 2271, 4013]   \n",
       "851                                [2882, 21442, 23887]   \n",
       "1353             [19102, 9088, 4606, 2419, 15882, 3104]   \n",
       "\n",
       "                                       Tokenized_padded     pred_cat  \n",
       "1977  [9986, 20481, 6132, 7918, 0, 0, 0, 0, 0, 0, 0,...      Clothes  \n",
       "2436  [8731, 18098, 6610, 4957, 9581, 4877, 5744, 58...         Kids  \n",
       "2804  [2028, 24759, 2271, 4013, 0, 0, 0, 0, 0, 0, 0,...  Electronics  \n",
       "851   [2882, 21442, 23887, 0, 0, 0, 0, 0, 0, 0, 0, 0...     Vacation  \n",
       "1353  [19102, 9088, 4606, 2419, 15882, 3104, 0, 0, 0...  Electronics  "
      ]
     },
     "execution_count": 255,
     "metadata": {},
     "output_type": "execute_result"
    }
   ],
   "source": [
    "sample_test_df"
   ]
  }
 ],
 "metadata": {
  "kernelspec": {
   "display_name": "llm_proj",
   "language": "python",
   "name": "python3"
  },
  "language_info": {
   "codemirror_mode": {
    "name": "ipython",
    "version": 3
   },
   "file_extension": ".py",
   "mimetype": "text/x-python",
   "name": "python",
   "nbconvert_exporter": "python",
   "pygments_lexer": "ipython3",
   "version": "3.10.13"
  }
 },
 "nbformat": 4,
 "nbformat_minor": 2
}
